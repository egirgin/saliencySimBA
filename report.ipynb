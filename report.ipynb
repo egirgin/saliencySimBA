{
 "cells": [
  {
   "cell_type": "code",
   "execution_count": 1,
   "id": "5232849d",
   "metadata": {},
   "outputs": [],
   "source": [
    "import pickle\n",
    "import numpy as np\n",
    "import matplotlib.pyplot as plt\n",
    "import seaborn as sn\n",
    "from utils import *"
   ]
  },
  {
   "cell_type": "code",
   "execution_count": 22,
   "id": "36032020",
   "metadata": {},
   "outputs": [],
   "source": [
    "class_dict = {\n",
    "    0 : \"Airplane\",\n",
    "    1 : \"Automobile\",\n",
    "    2 : \"Bird\",\n",
    "    3 : \"Cat\",\n",
    "    4 : \"Deer\",\n",
    "    5 : \"Dog\",\n",
    "    6 : \"Frog\",\n",
    "    7 : \"Horse\",\n",
    "    8 : \"Ship\",\n",
    "    9 : \"Truck\"\n",
    "}"
   ]
  },
  {
   "cell_type": "code",
   "execution_count": 23,
   "id": "b3b601d2",
   "metadata": {},
   "outputs": [],
   "source": [
    "def load_pickle(experiment_name):\n",
    "    with open('{}.pickle'.format(experiment_name), 'rb') as handle:\n",
    "        experiment = pickle.load(handle)\n",
    "        \n",
    "    return experiment"
   ]
  },
  {
   "cell_type": "code",
   "execution_count": 24,
   "id": "34558f35",
   "metadata": {},
   "outputs": [],
   "source": [
    "def visualize_preds(experiment):\n",
    "    plt.clf()\n",
    "    \n",
    "    # calculate stats\n",
    "    gts = experiment.gt\n",
    "    classes = np.unique(gts).astype(int)\n",
    "    \n",
    "    init_preds = experiment.init_pred\n",
    "    \n",
    "    last_preds = experiment.last_pred\n",
    "    \n",
    "    heatmap_init = np.zeros((len(classes), len(classes)))\n",
    "    heatmap_last = np.zeros((len(classes), len(classes)))\n",
    "    \n",
    "    for class_id in classes:\n",
    "        init_class_pred = init_preds[gts == class_id]\n",
    "        last_class_pred = last_preds[gts == class_id]\n",
    "        \n",
    "        (unique_init, counts_init) = np.unique(init_class_pred, return_counts=True)\n",
    "\n",
    "        freqs_init = dict(zip(unique_init, counts_init))\n",
    "        \n",
    "        (unique_last, counts_last) = np.unique(last_class_pred, return_counts=True)\n",
    "\n",
    "        freqs_last = dict(zip(unique_last, counts_last))\n",
    "        \n",
    "        for sub_class_id in classes:\n",
    "            if sub_class_id in freqs_init.keys():\n",
    "                heatmap_init[class_id, sub_class_id] = freqs_init[sub_class_id]\n",
    "                \n",
    "            if sub_class_id in freqs_last.keys():\n",
    "                heatmap_last[class_id, sub_class_id] = freqs_last[sub_class_id]\n",
    "                \n",
    "    \n",
    "    # visualize\n",
    "    \n",
    "    f, axes = plt.subplots(1, 2, figsize=(16, 5))\n",
    "    \n",
    "    sn.heatmap(data = heatmap_init, ax=axes[0])\n",
    "    sn.heatmap(data = heatmap_last, ax=axes[1])\n",
    "    \n",
    "    axes[0].set_title(\"Original Results\")\n",
    "    axes[0].set_ylabel(\"GroundTruths\")\n",
    "    axes[0].set_xlabel(\"Predictions\")\n",
    "    \n",
    "    axes[1].set_title(\"Attack Results\")\n",
    "    axes[1].set_ylabel(\"GroundTruths\")\n",
    "    axes[1].set_xlabel(\"Predictions\")\n",
    "    \n",
    "    plt.savefig(\"heatmaps.png\")\n",
    "    \n",
    "    return heatmap_init, heatmap_last\n",
    "        "
   ]
  },
  {
   "cell_type": "code",
   "execution_count": 25,
   "id": "7da4c34b",
   "metadata": {},
   "outputs": [],
   "source": [
    "def statistics(experiment):\n",
    "    stats = experiment.stats\n",
    "\n",
    "    (unique, counts) = np.unique(stats, return_counts=True)\n",
    "\n",
    "    freqs = dict(zip(unique, counts))\n",
    "    \n",
    "    orig_acc = 1 - freqs[0]/len(stats)\n",
    "    \n",
    "    attack_success = freqs[1] / (len(stats) - freqs[0])\n",
    "    \n",
    "    print(\"Original Acc: {:.2f}\".format(orig_acc))\n",
    "    print(\"Attack Success Rate: {:.2f}\".format(attack_success))\n",
    "    \n",
    "    init_conf_success = experiment.init_conf[experiment.stats == 1]\n",
    "    last_conf_success = experiment.last_conf[experiment.stats == 1]\n",
    "    \n",
    "    avg_init_conf_success_attacks = np.mean(init_conf_success)\n",
    "    avg_last_conf_success_attacks = np.mean(last_conf_success)\n",
    "    \n",
    "    print(\"Average Init. Conf. Successful Attacks: {:.2f}\".format(avg_init_conf_success_attacks))\n",
    "    print(\"Average Last. Conf. Successful Attacks: {:.2f}\".format(avg_last_conf_success_attacks))\n",
    "    \n",
    "    \n",
    "    init_conf_unsuccess = experiment.init_conf[experiment.stats == 2]\n",
    "    last_conf_unsuccess = experiment.last_conf[experiment.stats == 2]\n",
    "    \n",
    "    avg_init_conf_unsuccess_attacks = np.mean(init_conf_unsuccess)\n",
    "    avg_last_conf_unsuccess_attacks = np.mean(last_conf_unsuccess)\n",
    "    \n",
    "    print(\"Average Init. Conf. Unsuccessful Attacks: {:.2f}\".format(avg_init_conf_unsuccess_attacks))\n",
    "    print(\"Average Last. Conf. Unsuccessful Attacks: {:.2f}\".format(avg_last_conf_unsuccess_attacks))\n",
    "    \n",
    "        "
   ]
  },
  {
   "cell_type": "code",
   "execution_count": 26,
   "id": "dc565af4",
   "metadata": {},
   "outputs": [],
   "source": [
    "def visualize_queries(experiment):\n",
    "    plt.clf()\n",
    "    queries = experiment.n_queries[experiment.stats == 1]\n",
    "    \n",
    "    plt.hist(queries, bins=int(queries.max() / 10) )\n",
    "    \n",
    "    plt.title(\"Num. Queries\")\n",
    "    \n",
    "    plt.savefig(\"queries.png\")"
   ]
  },
  {
   "cell_type": "code",
   "execution_count": 27,
   "id": "ce0d6d89",
   "metadata": {},
   "outputs": [],
   "source": [
    "def vis_noise(experiment):\n",
    "    plt.clf()\n",
    "    \n",
    "    success_noise = np.mean(experiment.noise[experiment.stats == 1], axis=0).transpose(1, 2, 0)\n",
    "\n",
    "    plt.imshow(success_noise * 150)\n",
    "    plt.savefig(\"noise\")\n",
    "    "
   ]
  },
  {
   "cell_type": "code",
   "execution_count": 52,
   "id": "01f2df9c",
   "metadata": {},
   "outputs": [],
   "source": [
    "def vis_imgs(experiment):\n",
    "    plt.clf()\n",
    "    num_imgs = 5\n",
    "    plt.axis('off')\n",
    "\n",
    "    f, axes = plt.subplots(3, num_imgs, figsize=(16, 5))\n",
    "    \n",
    "    imgs = experiment.imgs[experiment.stats == 1]\n",
    "    noise = experiment.noise[experiment.stats == 1]\n",
    "    \n",
    "    init_conf = experiment.init_conf[experiment.stats == 1]\n",
    "    last_conf = experiment.last_conf[experiment.stats == 1]\n",
    "    \n",
    "    init_pred = experiment.init_pred[experiment.stats == 1]\n",
    "    last_pred = experiment.last_pred[experiment.stats == 1]\n",
    "    \n",
    "    \n",
    "    indices = np.random.choice(range(imgs.shape[0]), num_imgs)\n",
    "    \n",
    "    for i, idx in enumerate(indices):\n",
    "        axes[0, i].imshow(imgs[idx].transpose(1, 2, 0))\n",
    "        axes[1, i].imshow((imgs[idx] + noise[idx]).transpose(1, 2, 0))\n",
    "        \n",
    "        axes[2, i].imshow(noise[idx].transpose(1, 2, 0) * 150)\n",
    "        \n",
    "        axes[0, i].set_xlabel(\"Conf: {:.2f}\".format(init_conf[idx]))\n",
    "        axes[1, i].set_xlabel(\"Conf: {:.2f}\".format(last_conf[idx]))\n",
    "        \n",
    "        axes[0, i].set_title(\"Class: {}\".format(class_dict[init_pred[idx]]))\n",
    "        axes[1, i].set_title(\"Class: {}\".format(class_dict[last_pred[idx]]))\n",
    "        \n",
    "        \n",
    "    axes[0, 0].set_ylabel(\"Original\")\n",
    "    axes[1, 0].set_ylabel(\"Adversarial\")\n",
    "    axes[2, 0].set_ylabel(\"Noise x 150\")\n",
    "    \n",
    "    \n",
    "    f.set_tight_layout(True)\n",
    "    plt.savefig(\"imgs.png\", bbox_inches='tight')\n",
    "        "
   ]
  },
  {
   "cell_type": "code",
   "execution_count": 59,
   "id": "119403ec",
   "metadata": {},
   "outputs": [
    {
     "name": "stdout",
     "output_type": "stream",
     "text": [
      "Original Acc: 0.86\n",
      "Attack Success Rate: 0.60\n",
      "Average Init. Conf. Successful Attacks: 0.98\n",
      "Average Last. Conf. Successful Attacks: 0.52\n",
      "Average Init. Conf. Unsuccessful Attacks: 1.00\n",
      "Average Last. Conf. Unsuccessful Attacks: 1.00\n"
     ]
    },
    {
     "name": "stderr",
     "output_type": "stream",
     "text": [
      "Clipping input data to the valid range for imshow with RGB data ([0..1] for floats or [0..255] for integers).\n",
      "Clipping input data to the valid range for imshow with RGB data ([0..1] for floats or [0..255] for integers).\n",
      "Clipping input data to the valid range for imshow with RGB data ([0..1] for floats or [0..255] for integers).\n",
      "Clipping input data to the valid range for imshow with RGB data ([0..1] for floats or [0..255] for integers).\n",
      "Clipping input data to the valid range for imshow with RGB data ([0..1] for floats or [0..255] for integers).\n",
      "Clipping input data to the valid range for imshow with RGB data ([0..1] for floats or [0..255] for integers).\n",
      "Clipping input data to the valid range for imshow with RGB data ([0..1] for floats or [0..255] for integers).\n",
      "Clipping input data to the valid range for imshow with RGB data ([0..1] for floats or [0..255] for integers).\n",
      "Clipping input data to the valid range for imshow with RGB data ([0..1] for floats or [0..255] for integers).\n",
      "Clipping input data to the valid range for imshow with RGB data ([0..1] for floats or [0..255] for integers).\n",
      "Clipping input data to the valid range for imshow with RGB data ([0..1] for floats or [0..255] for integers).\n",
      "Clipping input data to the valid range for imshow with RGB data ([0..1] for floats or [0..255] for integers).\n",
      "Clipping input data to the valid range for imshow with RGB data ([0..1] for floats or [0..255] for integers).\n",
      "Clipping input data to the valid range for imshow with RGB data ([0..1] for floats or [0..255] for integers).\n",
      "Clipping input data to the valid range for imshow with RGB data ([0..1] for floats or [0..255] for integers).\n",
      "Clipping input data to the valid range for imshow with RGB data ([0..1] for floats or [0..255] for integers).\n"
     ]
    },
    {
     "data": {
      "text/plain": [
       "<Figure size 432x288 with 0 Axes>"
      ]
     },
     "metadata": {},
     "output_type": "display_data"
    },
    {
     "data": {
      "image/png": "[encoded data removed]",
      "text/plain": [
       "<Figure size 1152x360 with 1 Axes>"
      ]
     },
     "metadata": {
      "needs_background": "light"
     },
     "output_type": "display_data"
    },
    {
     "data": {
      "image/png": "[encoded data removed]",
      "text/plain": [
       "<Figure size 1152x360 with 15 Axes>"
      ]
     },
     "metadata": {
      "needs_background": "light"
     },
     "output_type": "display_data"
    }
   ],
   "source": [
    "experiment = load_pickle(\"experiment_1\")\n",
    "visualize_preds(experiment)\n",
    "statistics(experiment)\n",
    "visualize_queries(experiment)\n",
    "vis_noise(experiment)\n",
    "vis_imgs(experiment)"
   ]
  },
  {
   "cell_type": "code",
   "execution_count": null,
   "id": "24699d8b",
   "metadata": {},
   "outputs": [],
   "source": []
  },
  {
   "cell_type": "code",
   "execution_count": null,
   "id": "550f7633",
   "metadata": {},
   "outputs": [],
   "source": []
  }
 ],
 "metadata": {
  "kernelspec": {
   "display_name": "Python 3 (ipykernel)",
   "language": "python",
   "name": "python3"
  },
  "language_info": {
   "codemirror_mode": {
    "name": "ipython",
    "version": 3
   },
   "file_extension": ".py",
   "mimetype": "text/x-python",
   "name": "python",
   "nbconvert_exporter": "python",
   "pygments_lexer": "ipython3",
   "version": "3.7.13"
  }
 },
 "nbformat": 4,
 "nbformat_minor": 5
}
